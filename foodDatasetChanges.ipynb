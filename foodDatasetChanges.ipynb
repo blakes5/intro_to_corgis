{
 "cells": [
  {
   "cell_type": "markdown",
   "id": "tested-whale",
   "metadata": {},
   "source": [
    "# Changes to the Food Dataset"
   ]
  },
  {
   "cell_type": "markdown",
   "id": "controlled-month",
   "metadata": {},
   "source": [
    "I changed the icon to a different clipart picture of food.\n",
    "Open \"food-icon.png\" to see!"
   ]
  },
  {
   "cell_type": "code",
   "execution_count": 18,
   "id": "colored-firmware",
   "metadata": {},
   "outputs": [],
   "source": [
    "import pandas as pd\n",
    "import numpy as np\n",
    "\n",
    "df = pd.read_csv('oldfood-corgis.csv')\n",
    "## makes dataframe out of old dataset"
   ]
  },
  {
   "cell_type": "markdown",
   "id": "daily-theme",
   "metadata": {},
   "source": [
    "## Changes to food-corgis.csv"
   ]
  },
  {
   "cell_type": "markdown",
   "id": "absent-shopper",
   "metadata": {},
   "source": [
    "I sorted the Category column, the second column, alphabetically, so that all the similar food is sorted together. This was easier than seeing a bunch of eggs in a row, then other things, then later some more egg category items. Then, I adjusted the indexes to be in the proper order. I did not change the Nutrient Data Bank Number(ID number) with those other sorts because each ID should stay with its associated food. That does take that column out of order, but I think to a human, having it in order by category makes more sense than the ID number (especially when the list of ID numbers were not all consecutive integers before anyways). "
   ]
  },
  {
   "cell_type": "markdown",
   "id": "affected-boulder",
   "metadata": {},
   "source": [
    "## Changes to food-meta.csv"
   ]
  },
  {
   "cell_type": "markdown",
   "id": "christian-terrorism",
   "metadata": {},
   "source": [
    "I changed the name from \"Data.Sugar Total\" to \"Data.Sugar\" because it is just simpler."
   ]
  },
  {
   "cell_type": "markdown",
   "id": "critical-quality",
   "metadata": {},
   "source": [
    "I changed \"Data.Major Minerals.xxx\" to \"Data.Minerals.xxx\" with xxx being one of Calcium, Copper, Iron, Magnesium, Phosphorus, Potassium, Sodium, or Zinc again just to simplify."
   ]
  },
  {
   "cell_type": "markdown",
   "id": "weird-yugoslavia",
   "metadata": {},
   "source": [
    "I changed \"Data.Vitamins.Vitamin x\" to \"Data.Vitamins.x\" since I believe the second \"Vitamin\" is superfluous because it is already under the \"Vitamins\" subsection."
   ]
  },
  {
   "cell_type": "code",
   "execution_count": 19,
   "id": "communist-crash",
   "metadata": {
    "tags": []
   },
   "outputs": [],
   "source": [
    "df.to_csv('food-corgis.csv')\n",
    "## Creates csv file out of edited dataframe\n",
    "## I intended to edit the dataframe more ... see note below"
   ]
  },
  {
   "cell_type": "markdown",
   "id": "sitting-webster",
   "metadata": {},
   "source": [
    "### Note"
   ]
  },
  {
   "cell_type": "markdown",
   "id": "overall-punishment",
   "metadata": {},
   "source": [
    "I intended to manipulate the data more and do more coding to change it, but with the deadline coming increasingly closer, I decided to make more organizational changes to the dataset that made it easier to read and understand. These changes I did in Excel, with the final .csv files being included in this folder. I tried to find more updated data (since this data was from 2016) but the newer data on the source linked with this dataset is not formatted the same way and just does not have the same information on the same topics. So, I did not see much to update and I tried to make any improvements where I could. I am not sure if I did this exactly how you intended, but I tried to update the data set as best as I could in the timeframe with the information I had. "
   ]
  }
 ],
 "metadata": {
  "kernelspec": {
   "display_name": "Python 3",
   "language": "python",
   "name": "python3"
  },
  "language_info": {
   "codemirror_mode": {
    "name": "ipython",
    "version": 3
   },
   "file_extension": ".py",
   "mimetype": "text/x-python",
   "name": "python",
   "nbconvert_exporter": "python",
   "pygments_lexer": "ipython3",
   "version": "3.9.2"
  }
 },
 "nbformat": 4,
 "nbformat_minor": 5
}
